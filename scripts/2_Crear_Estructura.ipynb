{
 "cells": [
  {
   "cell_type": "markdown",
   "id": "be330dac",
   "metadata": {},
   "source": [
    "#  Estructura de Datos Simulada"
   ]
  },
  {
   "cell_type": "markdown",
   "id": "8cedf738",
   "metadata": {},
   "source": [
    "Archivo: pacientes.csv\n",
    "Crear un archivo pacientes.csv en la carpeta /data con la siguiente estructura:"
   ]
  },
  {
   "cell_type": "code",
   "execution_count": 1,
   "id": "378d9fe5",
   "metadata": {},
   "outputs": [
    {
     "name": "stdout",
     "output_type": "stream",
     "text": [
      "Archivo 'pacientes.csv' creado correctamente.\n"
     ]
    }
   ],
   "source": [
    "from pathlib import Path\n",
    "\n",
    "# Crear carpeta data\n",
    "data_path = Path.cwd() / \"../data\"\n",
    "data_path.mkdir(parents=True, exist_ok=True)\n",
    "\n",
    "# Crear archivo CSV pacientes con estructura\n",
    "archivo_csv = data_path / \"pacientes.csv\"\n",
    "if not archivo_csv.exists():\n",
    "    with open(archivo_csv, \"w\", encoding=\"utf-8\") as f:\n",
    "        f.write(\"id_paciente,nombre,edad,sexo,distrito,servicio,fecha_atencion,monto\\n\")\n",
    "    print(\"Archivo 'pacientes.csv' creado correctamente.\")\n",
    "else:\n",
    "    print(\"El archivo 'pacientes.csv' ya existe.\")"
   ]
  },
  {
   "cell_type": "markdown",
   "id": "003767d5",
   "metadata": {},
   "source": [
    "## 🧩 Fase 2 – Definición de Esquema\n",
    "Generar un archivo base CSV (base.csv) con la estructura indicada."
   ]
  },
  {
   "cell_type": "code",
   "execution_count": 2,
   "id": "95c7fcae",
   "metadata": {},
   "outputs": [
    {
     "name": "stdout",
     "output_type": "stream",
     "text": [
      "Archivo 'base.csv' creado correctamente.\n"
     ]
    }
   ],
   "source": [
    "from pathlib import Path\n",
    "\n",
    "# Crear carpeta data\n",
    "data_path = Path.cwd() / \"../data\"\n",
    "data_path.mkdir(parents=True, exist_ok=True)\n",
    "\n",
    "# Crear archivo CSV base para pacientes\n",
    "archivo_csv = data_path / \"base.csv\"\n",
    "if not archivo_csv.exists():\n",
    "    with open(archivo_csv, \"w\", encoding=\"utf-8\") as f:\n",
    "        f.write(\"id_paciente,nombre,edad,sexo,distrito,servicio,fecha_atencion,monto\\n\")\n",
    "    print(\"Archivo 'base.csv' creado correctamente.\")\n",
    "else:\n",
    "    print(\"El archivo 'base.csv' ya existe.\")"
   ]
  }
 ],
 "metadata": {
  "kernelspec": {
   "display_name": "myenv",
   "language": "python",
   "name": "python3"
  },
  "language_info": {
   "codemirror_mode": {
    "name": "ipython",
    "version": 3
   },
   "file_extension": ".py",
   "mimetype": "text/x-python",
   "name": "python",
   "nbconvert_exporter": "python",
   "pygments_lexer": "ipython3",
   "version": "3.13.7"
  }
 },
 "nbformat": 4,
 "nbformat_minor": 5
}
