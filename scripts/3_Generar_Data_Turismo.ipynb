{
 "cells": [
  {
   "cell_type": "markdown",
   "id": "f70f3d3e",
   "metadata": {},
   "source": [
    "# 🧩 Fase 3 – Generación de Datos Aleatorios\n",
    "Generar un archivo CSV (pacientes.csv) con 3000 registros simulados, que incluya campos nulos, NA, entre otros"
   ]
  },
  {
   "cell_type": "code",
   "execution_count": 1,
   "id": "79bcabd5",
   "metadata": {},
   "outputs": [
    {
     "name": "stdout",
     "output_type": "stream",
     "text": [
      "✅ Archivo generado correctamente en: c:\\Users\\EVE\\documents\\SaludDigitalA_E1\\scripts\\..\\data\\pacientes.csv\n",
      "📊 Total de registros: 3000\n"
     ]
    }
   ],
   "source": [
    "from pathlib import Path\n",
    "import csv\n",
    "import random\n",
    "from datetime import datetime, timedelta\n",
    "\n",
    "# 1️⃣ Crear carpeta \"data\" si no existe\n",
    "data_path = Path.cwd() / \"../data\"\n",
    "data_path.mkdir(parents=True, exist_ok=True)\n",
    "\n",
    "# 2️⃣ Definir archivo CSV\n",
    "csv_file = data_path / \"pacientes.csv\"\n",
    "\n",
    "# 3️⃣ Listas base de datos simulados\n",
    "nombres_m = [\"Luis\", \"Carlos\", \"Javier\", \"Miguel\", \"José\", \"Juan\", \"Ricardo\", \"Fernando\", \"Diego\", \"Roberto\", \"Antonio\", \"Pedro\"]\n",
    "nombres_f = [\"Ana\", \"María\", \"Laura\", \"Carmen\", \"Elena\", \"Sofía\", \"Isabel\", \"Patricia\", \"Rosa\", \"Lucía\", \"Claudia\", \"Andrea\"]\n",
    "apellidos = [\"García\", \"Rodríguez\", \"González\", \"Fernández\", \"López\", \"Martínez\", \"Sánchez\", \"Pérez\", \"Gómez\", \"Díaz\", \"Torres\", \"Ramírez\"]\n",
    "\n",
    "distritos = [\"Miraflores\", \"Surco\", \"San Isidro\", \"La Molina\", \"Lince\", \"Barranco\", \"Jesús María\", \"Magdalena\", \"Pueblo Libre\", \"San Borja\", \"Surquillo\", \"San Miguel\"]\n",
    "servicios = [\"Odontología\", \"Pediatría\", \"Cardiología\", \"Dermatología\", \"Ginecología\", \"Traumatología\", \"Oftalmología\", \"Neurología\", \"Psicología\", \"Medicina General\", \"Cirugía\", \"Urología\"]\n",
    "\n",
    "# 4️⃣ Generar datos aleatorios\n",
    "def generar_fecha():\n",
    "    \"\"\"Genera una fecha aleatoria entre 2024 y 2025\"\"\"\n",
    "    inicio = datetime(2024, 1, 1)\n",
    "    fin = datetime(2025, 1, 1)\n",
    "    delta = fin - inicio\n",
    "    fecha_random = inicio + timedelta(days=random.randint(0, delta.days))\n",
    "    return fecha_random.strftime(\"%Y-%m-%d\")\n",
    "\n",
    "# 5️⃣ Crear 3000 registros simulados\n",
    "registros = []\n",
    "contador_nulos = 0\n",
    "\n",
    "for i in range(1, 3001):\n",
    "    id_paciente = f\"P{str(i).zfill(3)}\"\n",
    "    sexo = random.choice([\"M\", \"F\"])\n",
    "    if sexo == \"M\":\n",
    "        nombre = f\"{random.choice(nombres_m)} {random.choice(apellidos)}\"\n",
    "    else:\n",
    "        nombre = f\"{random.choice(nombres_f)} {random.choice(apellidos)}\"\n",
    "    \n",
    "    edad = random.randint(1, 90)\n",
    "   \n",
    "    if random.random() < 0.1: \n",
    "        distrito = random.choice([\"NA\", None])\n",
    "        contador_nulos += 1\n",
    "    else:\n",
    "        distrito = random.choice(distritos)\n",
    "    \n",
    "    if random.random() < 0.08: \n",
    "        servicio = random.choice([\"NA\", None])\n",
    "        contador_nulos += 1\n",
    "    else:\n",
    "        servicio = random.choice(servicios)\n",
    "    \n",
    "    fecha_atencion = generar_fecha()\n",
    "    monto_base = random.uniform(50, 500)\n",
    "    monto = round(monto_base, 2)\n",
    "    registros.append([id_paciente, nombre, edad, sexo, distrito, servicio, fecha_atencion, monto])\n",
    "\n",
    "# 6️⃣ Escribir en el archivo CSV\n",
    "with open(csv_file, mode=\"w\", newline=\"\", encoding=\"utf-8\") as file:\n",
    "    writer = csv.writer(file)\n",
    "    writer.writerow([\"id_paciente\", \"nombre\", \"edad\", \"sexo\", \"distrito\", \"servicio\", \"fecha_atencion\", \"monto\"])\n",
    "    writer.writerows(registros)\n",
    "\n",
    "print(f\"✅ Archivo generado correctamente en: {csv_file}\")\n",
    "print(f\"📊 Total de registros: {len(registros)}\")"
   ]
  }
 ],
 "metadata": {
  "kernelspec": {
   "display_name": "myenv",
   "language": "python",
   "name": "python3"
  },
  "language_info": {
   "codemirror_mode": {
    "name": "ipython",
    "version": 3
   },
   "file_extension": ".py",
   "mimetype": "text/x-python",
   "name": "python",
   "nbconvert_exporter": "python",
   "pygments_lexer": "ipython3",
   "version": "3.13.7"
  }
 },
 "nbformat": 4,
 "nbformat_minor": 5
}
