{
 "cells": [
  {
   "cell_type": "markdown",
   "id": "2f6017f6",
   "metadata": {},
   "source": [
    "# 🧩 Fase 5 – Carga en MongoDB\n",
    "Crear base de datos SaludDigital_2025 y colección pacientes\n",
    "Insertar los registros limpios desde CSV."
   ]
  },
  {
   "cell_type": "code",
   "execution_count": 1,
   "id": "a24ee91e",
   "metadata": {},
   "outputs": [
    {
     "name": "stdout",
     "output_type": "stream",
     "text": [
      "⏰ Iniciando carga en MongoDB...\n",
      "🔗 Intentando conectar a MongoDB...\n",
      "✅ Conexión a MongoDB establecida\n",
      "📖 Leyendo archivo CSV...\n",
      "📊 Datos leídos: 3000 registros\n",
      "⬆️ Insertando datos...\n",
      "✅ Datos insertados en MongoDB correctamente.\n",
      "\n",
      "📈 ESTADÍSTICAS:\n",
      "Total documentos: 3000\n",
      "\n",
      "📋 Ejemplo de 2 documentos:\n",
      "{'_id': ObjectId('68f27fc1e0fecc6fdbf53b5a'), 'id_paciente': 'P001', 'nombre': 'Miguel Díaz', 'edad': 51, 'sexo': 'M', 'distrito': 'San Borja', 'servicio': 'Pediatría', 'fecha_atencion': '2024-11-29', 'monto': 310.76}\n",
      "{'_id': ObjectId('68f27fc1e0fecc6fdbf53b5b'), 'id_paciente': 'P002', 'nombre': 'Diego Martínez', 'edad': 78, 'sexo': 'M', 'distrito': 'La Molina', 'servicio': 'Traumatología', 'fecha_atencion': '2024-10-17', 'monto': 169.1}\n",
      "\n",
      "⏱️  Tiempo total: 0.16 segundos\n",
      "🎉 Carga en MongoDB completada exitosamente!\n"
     ]
    }
   ],
   "source": [
    "import pandas as pd\n",
    "from pymongo import MongoClient\n",
    "import time\n",
    "from pymongo.errors import ConnectionFailure\n",
    "\n",
    "print(\"⏰ Iniciando carga en MongoDB...\")\n",
    "start_time = time.time()\n",
    "\n",
    "try:\n",
    "    # 1️⃣ Conectarse a MongoDB con timeout\n",
    "    print(\"🔗 Intentando conectar a MongoDB...\")\n",
    "    client = MongoClient(\"mongodb://localhost:27017/\", serverSelectionTimeoutMS=5000)\n",
    "    \n",
    "    # Verificar conexión\n",
    "    client.admin.command('ping')\n",
    "    print(\"✅ Conexión a MongoDB establecida\")\n",
    "    \n",
    "    # 2️⃣ Crear BD y colección\n",
    "    db = client[\"SaludDigital_2025\"]\n",
    "    collection = db[\"pacientes\"]\n",
    "    \n",
    "    # 3️⃣ Leer el archivo limpio\n",
    "    print(\"📖 Leyendo archivo CSV...\")\n",
    "    df = pd.read_csv('../database/pacientes_clean.csv')\n",
    "    data = df.to_dict(orient=\"records\")\n",
    "    print(f\"📊 Datos leídos: {len(data)} registros\")\n",
    "    \n",
    "    # 4️⃣ Insertar en MongoDB\n",
    "    print(\"⬆️ Insertando datos...\")\n",
    "    collection.insert_many(data)\n",
    "    print(\"✅ Datos insertados en MongoDB correctamente.\")\n",
    "    \n",
    "    # 5️⃣ Verificaciones rápidas\n",
    "    print(f\"\\n📈 ESTADÍSTICAS:\")\n",
    "    print(f\"Total documentos: {collection.count_documents({})}\")\n",
    "    \n",
    "    # Solo mostrar 2 ejemplos\n",
    "    print(\"\\n📋 Ejemplo de 2 documentos:\")\n",
    "    for doc in collection.find().limit(2):\n",
    "        print(doc)\n",
    "    \n",
    "    # Tiempo de ejecución\n",
    "    end_time = time.time()\n",
    "    print(f\"\\n⏱️  Tiempo total: {round(end_time - start_time, 2)} segundos\")\n",
    "    print(\"🎉 Carga en MongoDB completada exitosamente!\")\n",
    "    \n",
    "except ConnectionFailure:\n",
    "    print(\"❌ ERROR: No se puede conectar a MongoDB\")\n",
    "    print(\"💡 Solución: Inicia MongoDB con 'mongod' o verifica la instalación\")\n",
    "except Exception as e:\n",
    "    print(f\"❌ Error: {e}\")"
   ]
  }
 ],
 "metadata": {
  "kernelspec": {
   "display_name": "myenv",
   "language": "python",
   "name": "python3"
  },
  "language_info": {
   "codemirror_mode": {
    "name": "ipython",
    "version": 3
   },
   "file_extension": ".py",
   "mimetype": "text/x-python",
   "name": "python",
   "nbconvert_exporter": "python",
   "pygments_lexer": "ipython3",
   "version": "3.13.7"
  }
 },
 "nbformat": 4,
 "nbformat_minor": 5
}
