{
 "cells": [
  {
   "cell_type": "markdown",
   "id": "f9f133de",
   "metadata": {},
   "source": [
    "# Creando carpetas"
   ]
  },
  {
   "cell_type": "code",
   "execution_count": 2,
   "id": "c388389f",
   "metadata": {},
   "outputs": [
    {
     "name": "stdout",
     "output_type": "stream",
     "text": [
      "✅ Carpeta 'data' lista en c:\\Users\\EVE\\documents\\SaludDigitalA_E1\\scripts\\..\\data\n",
      "✅ Carpeta 'data' lista en data\n",
      "✅ Carpeta 'database' lista en c:\\Users\\EVE\\documents\\SaludDigitalA_E1\\scripts\\..\\database\n",
      "✅ Carpeta 'database' lista en database\n",
      "✅ Carpeta 'reports' lista en c:\\Users\\EVE\\documents\\SaludDigitalA_E1\\scripts\\..\\reports\n",
      "✅ Carpeta 'reports' lista en reports\n",
      "✅ Carpeta 'ci' lista en c:\\Users\\EVE\\documents\\SaludDigitalA_E1\\scripts\\..\\ci\n",
      "✅ Carpeta 'ci' lista en ci\n"
     ]
    }
   ],
   "source": [
    "import os\n",
    "from pathlib import Path\n",
    "\n",
    "# Definir las rutas de carpetas del proyecto\n",
    "carpetas = [\"data\", \"database\", \"reports\", \"ci\"]\n",
    "\n",
    "for carpeta in carpetas:\n",
    "    ruta= Path.cwd() / f\"../{carpeta}\"\n",
    "    ruta.mkdir(parents=True, exist_ok=True)\n",
    "    print(f\"✅ Carpeta '{carpeta}' lista en {ruta}\")\n",
    "   \n",
    "    ruta_os = os.path.join(os.getcwd(), \"../\" + carpeta)\n",
    "    if os.path.exists(ruta_os):\n",
    "        print(f\"✅ Carpeta '{carpeta}' lista en {carpeta}\")\n",
    "    else:\n",
    "        print(f\" Error creando '{carpeta}'\")"
   ]
  }
 ],
 "metadata": {
  "kernelspec": {
   "display_name": "myenv",
   "language": "python",
   "name": "python3"
  },
  "language_info": {
   "codemirror_mode": {
    "name": "ipython",
    "version": 3
   },
   "file_extension": ".py",
   "mimetype": "text/x-python",
   "name": "python",
   "nbconvert_exporter": "python",
   "pygments_lexer": "ipython3",
   "version": "3.13.7"
  }
 },
 "nbformat": 4,
 "nbformat_minor": 5
}
