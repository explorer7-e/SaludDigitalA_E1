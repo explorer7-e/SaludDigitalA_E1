{
 "cells": [
  {
   "cell_type": "markdown",
   "id": "a60f4c08",
   "metadata": {},
   "source": [
    "# Fase 4 – ETL (Limpieza de Datos)\n",
    "•\tEliminar duplicados\n",
    "•\tRellenar valores nulos en campos de transporte o destino\n",
    "•\tFormatear fechas\n",
    "•\tValidar tipos de datos"
   ]
  },
  {
   "cell_type": "code",
   "execution_count": 1,
   "id": "6c3ef1b7",
   "metadata": {},
   "outputs": [
    {
     "name": "stdout",
     "output_type": "stream",
     "text": [
      "🔍 Valores nulos antes de la limpieza:\n",
      "id_paciente         0\n",
      "nombre              0\n",
      "edad                0\n",
      "sexo                0\n",
      "distrito          278\n",
      "servicio          254\n",
      "fecha_atencion      0\n",
      "monto               0\n",
      "dtype: int64\n",
      "\n",
      "✅ Después de la limpieza:\n",
      "id_paciente       0\n",
      "nombre            0\n",
      "edad              0\n",
      "sexo              0\n",
      "distrito          0\n",
      "servicio          0\n",
      "fecha_atencion    0\n",
      "monto             0\n",
      "dtype: int64\n",
      "\n",
      "📁 Archivo limpio guardado en: c:\\Users\\EVE\\documents\\SaludDigitalA_E1\\scripts\\..\\database\\pacientes_clean.csv\n"
     ]
    }
   ],
   "source": [
    "import pandas as pd\n",
    "from pathlib import Path\n",
    "\n",
    "# 1️⃣ Definir rutas\n",
    "data_path = Path.cwd() / \"../data\"\n",
    "database_path = Path.cwd() / \"../database\"\n",
    "database_path.mkdir(parents=True, exist_ok=True)\n",
    "\n",
    "input_file = data_path / \"pacientes.csv\"\n",
    "output_file = database_path / \"pacientes_clean.csv\"\n",
    "\n",
    "# 2️⃣ Leer el archivo CSV original\n",
    "df = pd.read_csv(input_file)\n",
    "\n",
    "# 3️⃣ Mostrar cantidad de valores nulos antes\n",
    "print(\"🔍 Valores nulos antes de la limpieza:\")\n",
    "print(df.isnull().sum())\n",
    "\n",
    "# 4️⃣ Reemplazar valores nulos y \"NA\" en las columnas (igual que el banco)\n",
    "df[\"distrito\"] = df[\"distrito\"].fillna(\"No especificado\")\n",
    "df[\"distrito\"] = df[\"distrito\"].replace(\"NA\", \"No especificado\")\n",
    "\n",
    "df[\"servicio\"] = df[\"servicio\"].fillna(\"Medicina General\")\n",
    "df[\"servicio\"] = df[\"servicio\"].replace(\"NA\", \"Medicina General\")\n",
    "\n",
    "# 5️⃣ Eliminar filas completamente vacías o duplicadas\n",
    "df.dropna(how=\"all\", inplace=True)\n",
    "df.drop_duplicates(inplace=True)\n",
    "\n",
    "# 6️⃣ Mostrar resumen después de la limpieza\n",
    "print(\"\\n✅ Después de la limpieza:\")\n",
    "print(df.isnull().sum())\n",
    "\n",
    "# 7️⃣ Guardar el nuevo archivo limpio\n",
    "df.to_csv(output_file, index=False, encoding=\"utf-8\")\n",
    "print(f\"\\n📁 Archivo limpio guardado en: {output_file}\")"
   ]
  }
 ],
 "metadata": {
  "kernelspec": {
   "display_name": "myenv",
   "language": "python",
   "name": "python3"
  },
  "language_info": {
   "codemirror_mode": {
    "name": "ipython",
    "version": 3
   },
   "file_extension": ".py",
   "mimetype": "text/x-python",
   "name": "python",
   "nbconvert_exporter": "python",
   "pygments_lexer": "ipython3",
   "version": "3.13.7"
  }
 },
 "nbformat": 4,
 "nbformat_minor": 5
}
